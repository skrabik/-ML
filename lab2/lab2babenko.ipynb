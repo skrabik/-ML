{
 "cells": [
  {
   "cell_type": "markdown",
   "metadata": {},
   "source": [
    "Бабеноко Роман НММбд-01-22\n",
    "\n",
    "Отчёт по лаборатоной работе номер 2"
   ]
  },
  {
   "cell_type": "markdown",
   "metadata": {},
   "source": [
    "Задание 1.\n",
    "\n",
    "Написать фукцию наподобие gradient_descent_reg_l2, но с применением L1 регуляризации"
   ]
  },
  {
   "cell_type": "markdown",
   "metadata": {},
   "source": [
    "Импортируем numpy, скопируем код gradient_descent_reg_l2, только градиент регуляризации будем находить не по формуле \n",
    "\n",
    "$$d\\lambda ||w||^{2} = 2\\lambda w $$\n",
    "\n",
    ", а по формуле \n",
    "\n",
    "$$d\\lambda |w| = \\lambda * sign(W)$$"
   ]
  },
  {
   "cell_type": "code",
   "execution_count": 13,
   "metadata": {},
   "outputs": [],
   "source": [
    "import numpy as np\n",
    "\n",
    "# для вычисления ошибки\n",
    "def calc_mse(y, y_pred):\n",
    "    err = np.mean((y - y_pred)**2)\n",
    "    return err\n",
    "\n",
    "def gradient_descent_reg_l1(X, y, iterations, eta=1e-4, reg=1e-30):\n",
    "    # выбираем случайные стартовые веса\n",
    "    W = np.random.randn(X.shape[1])\n",
    "    n = X.shape[0]\n",
    "\n",
    "    # запускаем цикл длинной в количество итераций\n",
    "    for i in range(0, iterations):\n",
    "        y_pred = np.dot(X, W)\n",
    "        err = calc_mse(y, y_pred)\n",
    "\n",
    "        dQ = 2 / n * X.T @ (y_pred - y)  # градиент функции ошибки\n",
    "        dReg = reg * np.sign(W)  # градиент регуляризации L1\n",
    "\n",
    "        W -= eta * (dQ - dReg)\n",
    "\n",
    "        if i % (iterations / 10) == 0:\n",
    "            print(f'Iter: {i}, weights: {W}, error {err}')\n",
    "\n",
    "    print(f'Final MSE: {calc_mse(y, np.dot(X, W))}')\n",
    "    return W"
   ]
  },
  {
   "cell_type": "markdown",
   "metadata": {},
   "source": [
    "Протестируем на данных: "
   ]
  },
  {
   "cell_type": "code",
   "execution_count": 14,
   "metadata": {},
   "outputs": [
    {
     "name": "stdout",
     "output_type": "stream",
     "text": [
      "Iter: 0, weights: [1.76004122 0.37339623 0.97847287 0.53383642], error 3254.017373145631\n",
      "Iter: 500, weights: [56.49775435  5.89010616  1.24625818  5.32585392], error 25.346610814182842\n",
      "Iter: 1000, weights: [56.49999991  6.1811989   0.21206563  6.10622754], error 24.961453636355422\n",
      "Iter: 1500, weights: [56.5         6.26058764 -0.15220851  6.4031494 ], error 24.91198114966\n",
      "Iter: 2000, weights: [56.5         6.28786392 -0.28291786  6.51084429], error 24.90557271477142\n",
      "Iter: 2500, weights: [56.5         6.29761532 -0.32994471  6.54965014], error 24.904742454157173\n",
      "Iter: 3000, weights: [56.5         6.30112185 -0.34687056  6.56362012], error 24.90463488732058\n",
      "Iter: 3500, weights: [56.5         6.30238383 -0.35296283  6.56864861], error 24.904620951184206\n",
      "Iter: 4000, weights: [56.5         6.30283805 -0.35515568  6.57045858], error 24.90461914564726\n",
      "Iter: 4500, weights: [56.5         6.30300155 -0.35594498  6.57111006], error 24.904618911725635\n",
      "Final MSE: 24.904618881419225\n"
     ]
    },
    {
     "data": {
      "text/plain": [
       "array([56.5       ,  6.30306033, -0.35622876,  6.57134429])"
      ]
     },
     "execution_count": 14,
     "metadata": {},
     "output_type": "execute_result"
    }
   ],
   "source": [
    "X = np.array([[1, 1, 500, 1],\n",
    "              [1, 1, 700, 1],\n",
    "              [1, 2, 750, 2],\n",
    "              [1, 5, 600, 1],\n",
    "              [1, 3, 1450, 2],\n",
    "              [1, 0, 800, 1],\n",
    "              [1, 5, 1500, 3],\n",
    "              [1, 10, 2000, 3],\n",
    "              [1, 1, 450, 1],\n",
    "              [1, 2, 1000, 2]])\n",
    "\n",
    "y = [45, 55, 50, 55, 60, 35, 75, 80, 50, 60]\n",
    "\n",
    "\n",
    "def standard_scale(X):\n",
    "    mean = X.mean()\n",
    "    std = X.std()\n",
    "    return (X - mean) / std\n",
    "\n",
    "X_st = X.copy().astype(np.float64)\n",
    "X_st[:, 1] = standard_scale(X_st[:, 1])\n",
    "X_st[:, 2] = standard_scale(X_st[:, 2])\n",
    "X_st[:, 3] = standard_scale(X_st[:, 3])\n",
    "\n",
    "\n",
    "gradient_descent_reg_l1(X_st, y, iterations=5000, eta=1e-2)"
   ]
  },
  {
   "cell_type": "markdown",
   "metadata": {},
   "source": [
    "Задание 2.\n",
    "\n",
    "Можно ли к одному и тому же признаку применить сразу и нормализацию, и стандартизацию?\n",
    "\n",
    "Стандартизацию или нормализацию выбирают в зависимости от специфики данных. Но мне кажется да, чисто в теории можно применить и стандартизацию и нормализацию к одному и тому же признаку."
   ]
  },
  {
   "cell_type": "markdown",
   "metadata": {},
   "source": [
    "Задание 3.\n",
    "\n",
    "Сгенерировать датасет при помощи <code>sklearn.datasets.make_regression</code> и обучить линейную модель при помощи градиентного и стохастического градиентного спуска. Нанести среднеквадратичную ошибку для обоих методов на один график, сделайть выводы о разнице скорости сходимости каждого из методов."
   ]
  },
  {
   "cell_type": "markdown",
   "metadata": {},
   "source": [
    "Импортируем нужные модули, скопипаситим функции для градиентного обычного и градиентного стохачтического спуска, немного модернизируем их, чтобы они дополнительно возвращали массив из значения ошибок для каждой итерации"
   ]
  },
  {
   "cell_type": "code",
   "execution_count": 15,
   "metadata": {},
   "outputs": [],
   "source": [
    "from sklearn.datasets import make_regression\n",
    "import matplotlib.pyplot as plt\n",
    "\n",
    "# функция для вычисления ошибки\n",
    "def calc_mse(y, y_pred):\n",
    "    err = np.mean((y - y_pred)**2)\n",
    "    return err\n",
    "\n",
    "# будем использовать функции градиентного и стохастического градиентного спуска\n",
    "def gradient_descent(X, y, iterations, eta=1e-2):\n",
    "    W = np.random.randn(X.shape[1])\n",
    "    n = X.shape[0]\n",
    "\n",
    "    # массив для хранения ошибок\n",
    "    errors = []\n",
    "\n",
    "    for i in range(0, iterations):\n",
    "        y_pred = np.dot(X, W)\n",
    "        err = calc_mse(y, y_pred)\n",
    "        errors.append(err)\n",
    "        dQ = 2 / n * X.T @ (y_pred - y)  # градиент функции ошибки\n",
    "        W -= (eta * dQ)\n",
    "\n",
    "    return W, errors\n",
    "\n",
    "\n",
    "def stohastic_gradient_descent(X, y, iterations, size, eta=1e-2):\n",
    "    W = np.random.randn(X.shape[1])\n",
    "    n = X.shape[0]\n",
    "\n",
    "    # создадим массив для хранения ошибок\n",
    "    errors = []\n",
    "\n",
    "    for i in range(0, iterations):\n",
    "        inds = np.random.randint(n, size=size)\n",
    "\n",
    "        X_tmp = X[inds,]\n",
    "        y_tmp = np.array(y)[inds]\n",
    "\n",
    "        y_pred_tmp = np.dot(X_tmp, W)\n",
    "        dQ = 2 / len(y_tmp) * X_tmp.T @ (y_pred_tmp - y_tmp)  # градиент функции ошибки\n",
    "        W -= (eta * dQ)\n",
    "\n",
    "        err = calc_mse(y, np.dot(X, W))\n",
    "        errors.append(err)\n",
    "    return W, errors\n"
   ]
  },
  {
   "cell_type": "markdown",
   "metadata": {},
   "source": [
    "Cгенерируем данные для модели\n",
    "\n",
    "модель для обучения будет следующая:\n",
    "\n",
    "\n",
    "количество экземпляров (n_samples) == 1000\n",
    "\n",
    "\n",
    "количество свойств (n_features) == 9\n",
    "\n",
    "\n",
    "bias - добавим немного шума\n",
    "\n",
    "\n",
    "coef == True, коэффициенты при линейных уравнениях, чтобы можно было сравнить с результатом\n"
   ]
  },
  {
   "cell_type": "code",
   "execution_count": 16,
   "metadata": {},
   "outputs": [],
   "source": [
    "X, y, c = make_regression(n_samples=1000, n_features=9, bias=0.5, coef=True)\n",
    "\n",
    "# количество итераций\n",
    "iterations = 250"
   ]
  },
  {
   "cell_type": "markdown",
   "metadata": {},
   "source": [
    "Применим методы к этой модели и выведем результаты, а так же массив из настоящих коэффициентов "
   ]
  },
  {
   "cell_type": "code",
   "execution_count": 17,
   "metadata": {},
   "outputs": [],
   "source": [
    "grad, gradErr = gradient_descent(X, y, iterations=iterations)\n",
    "gradSt, gradStErr = stohastic_gradient_descent(X, y, iterations=iterations, size=9)"
   ]
  },
  {
   "cell_type": "code",
   "execution_count": 18,
   "metadata": {},
   "outputs": [
    {
     "data": {
      "text/plain": [
       "array([12.27110288, 76.07688905, 23.27963062, 32.99853969, 66.15690488,\n",
       "       57.0869948 , 57.32124657, 21.81830099, 17.18410957])"
      ]
     },
     "execution_count": 18,
     "metadata": {},
     "output_type": "execute_result"
    }
   ],
   "source": [
    "grad"
   ]
  },
  {
   "cell_type": "code",
   "execution_count": 19,
   "metadata": {},
   "outputs": [
    {
     "data": {
      "text/plain": [
       "array([12.09108962, 76.06036997, 23.25122159, 33.15718351, 66.09296801,\n",
       "       56.74103096, 57.26527284, 21.69782188, 17.17123873])"
      ]
     },
     "execution_count": 19,
     "metadata": {},
     "output_type": "execute_result"
    }
   ],
   "source": [
    "gradSt"
   ]
  },
  {
   "cell_type": "code",
   "execution_count": 20,
   "metadata": {},
   "outputs": [
    {
     "data": {
      "text/plain": [
       "array([12.32546971, 76.42419287, 23.32179444, 33.08715134, 66.62024302,\n",
       "       57.59983464, 57.77166067, 22.11116226, 17.29317109])"
      ]
     },
     "execution_count": 20,
     "metadata": {},
     "output_type": "execute_result"
    }
   ],
   "source": [
    "c"
   ]
  },
  {
   "cell_type": "markdown",
   "metadata": {},
   "source": [
    "Далее мы строим грацики на основе массивов с ошибками"
   ]
  },
  {
   "cell_type": "code",
   "execution_count": 21,
   "metadata": {},
   "outputs": [
    {
     "data": {
      "image/png": "[encoded data removed]",
      "text/plain": [
       "<Figure size 640x480 with 1 Axes>"
      ]
     },
     "metadata": {},
     "output_type": "display_data"
    }
   ],
   "source": [
    "plt.figure()\n",
    "plt.plot([i for i in range(len(gradErr))], gradErr, label='Обычный градиентный спуск')\n",
    "plt.plot([i for i in range(len(gradStErr))], gradStErr, label='Стохастический градиентный спуск')\n",
    "plt.legend()\n",
    "plt.xlabel('Количество итераций')\n",
    "plt.ylabel('Значение ошибки')\n",
    "plt.show()"
   ]
  },
  {
   "cell_type": "markdown",
   "metadata": {},
   "source": [
    "Изучив полученный граыфик можно сделвть вывод, что и при градиентном спуске и при стохастическом градиентном спуске скорость сходимости будет примерно одинаковой."
   ]
  }
 ],
 "metadata": {
  "kernelspec": {
   "display_name": "Python 3",
   "language": "python",
   "name": "python3"
  },
  "language_info": {
   "codemirror_mode": {
    "name": "ipython",
    "version": 3
   },
   "file_extension": ".py",
   "mimetype": "text/x-python",
   "name": "python",
   "nbconvert_exporter": "python",
   "pygments_lexer": "ipython3",
   "version": "3.11.4"
  }
 },
 "nbformat": 4,
 "nbformat_minor": 2
}
