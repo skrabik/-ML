{
 "cells": [
  {
   "cell_type": "markdown",
   "metadata": {},
   "source": [
    "Бабенко Р. Лабораторная работа номер 3."
   ]
  },
  {
   "cell_type": "markdown",
   "metadata": {},
   "source": [
    "Задание 1. Изменить функцию calc_logloss так, чтобы нули по возможности не попадали в np.log."
   ]
  },
  {
   "cell_type": "code",
   "execution_count": 62,
   "metadata": {},
   "outputs": [],
   "source": [
    "import numpy as np\n",
    "\n",
    "def calc_logloss(y, y_pred):\n",
    "    dim = y.shape[0]\n",
    "    err = 0\n",
    "    for i in range(dim):\n",
    "        if y_pred[i] != 1.0 and y_pred[i] != 0:\n",
    "            err -= y[i] * np.log(y_pred[i]) + (1.0 - y[i]) * np.log(1.0 - y_pred[i])\n",
    "    rez = err / dim\n",
    "    return rez"
   ]
  },
  {
   "cell_type": "markdown",
   "metadata": {},
   "source": [
    "Используем цикл чтобы расспатривать вес каждого признака отдельно, и условием не рассматриваем те признаки, в которых y_pred равен нулю или единице(чтобы нули не попалали в логарифм). "
   ]
  },
  {
   "cell_type": "code",
   "execution_count": 63,
   "metadata": {},
   "outputs": [
    {
     "name": "stdout",
     "output_type": "stream",
     "text": [
      "0.11157177565710485\n"
     ]
    }
   ],
   "source": [
    "y1 = np.array([1, 0])\n",
    "y_pred1 = np.array([1, 0.2])\n",
    "print(calc_logloss(y1, y_pred1))"
   ]
  },
  {
   "cell_type": "markdown",
   "metadata": {},
   "source": [
    "Тестовый пример, на котором выдавало исключение"
   ]
  },
  {
   "cell_type": "markdown",
   "metadata": {},
   "source": [
    "Задание 2. Подобрать аргументы функции eval_model для логистической регрессии таким образом, чтобы log loss был минимальным.\n"
   ]
  },
  {
   "cell_type": "code",
   "execution_count": 64,
   "metadata": {},
   "outputs": [
    {
     "name": "stdout",
     "output_type": "stream",
     "text": [
      "0 [ 0.11732727 -1.58914029  0.62030812  0.95688359] 1.1785958344356262\n",
      "1000 [-10.79956087  -1.38842301  -2.43773192   9.1781253 ] 0.23165947539015325\n",
      "2000 [-15.46737926  -1.78489608  -3.84058484  12.94996634] 0.19317640063439964\n",
      "3000 [-19.06453024  -2.10307143  -4.89402886  15.87355904] 0.1703820922419324\n",
      "4000 [-22.02639821  -2.36864314  -5.74972113  18.28151701] 0.15496509524744978\n",
      "5000 [-24.55062127  -2.59641317  -6.47260633  20.33229852] 0.1437907257559476\n",
      "6000 [-26.75533033  -2.7959032   -7.1002527   22.12170973] 0.13528147157282963\n",
      "7000 [-28.71761855  -2.97355287  -7.65663776  23.71251207] 0.12855136478278142\n",
      "8000 [-30.49042692  -3.13388494  -8.15795259  25.14787759] 0.12306625393611917\n",
      "9000 [-32.11152175  -3.28017801  -8.61559398  26.45863223] 0.11848606975828083\n"
     ]
    }
   ],
   "source": [
    "import numpy as np\n",
    "import matplotlib.pyplot as plt\n",
    "\n",
    "X = np.array([ [   1,    1,  500,    1],\n",
    "               [   1,    1,  700,    1],\n",
    "               [   1,    2,  750,    2],\n",
    "               [   1,    5,  600,    1],\n",
    "               [   1,    3, 1450,    2],\n",
    "               [   1,    0,  800,    1],\n",
    "               [   1,    5, 1500,    3],\n",
    "               [   1,   10, 2000,    3],\n",
    "               [   1,    1,  450,    1],\n",
    "               [   1,    2, 1000,    2]], dtype=np.float64)\n",
    "\n",
    "y = np.array([0, 0, 1, 0, 1, 0, 1, 0, 1, 1], dtype=np.float64)\n",
    "\n",
    "def standard_scale(x):\n",
    "    res = (x - x.mean()) / x.std()\n",
    "    return res\n",
    "\n",
    "X_st = X.copy()\n",
    "X_st[:, 2] = standard_scale(X[:, 2])\n",
    "\n",
    "def sigmoid(z):\n",
    "    res = 1 / (1 + np.exp(-z))\n",
    "    return res\n",
    "\n",
    "def eval_model(X, y, iterations, eta=1e-4):\n",
    "    np.random.seed(42)\n",
    "    W = np.random.randn(X.shape[1])\n",
    "    n = X.shape[0]\n",
    "    \n",
    "    for i in range(iterations):\n",
    "        z = np.dot(X, W)\n",
    "        y_pred = sigmoid(z)\n",
    "        err = calc_logloss(y, y_pred)\n",
    "        \n",
    "        dQ = 1/n * X.T @ (y_pred - y)\n",
    "        W -= eta * dQ\n",
    "        if i % (iterations / 10) == 0:\n",
    "            print(i, W, err)\n",
    "    return W\n",
    "\n",
    "W = eval_model(X_st, y, iterations=10000, eta=1)"
   ]
  },
  {
   "cell_type": "markdown",
   "metadata": {},
   "source": [
    "Не совсем понял, но при увеличении количестви итераций и увеличивая шаг, значение log loss постоянно уменьшалось... Задал значения как 10000 и 1."
   ]
  },
  {
   "cell_type": "markdown",
   "metadata": {},
   "source": [
    "Задание 3.\n",
    "\n",
    "Создайте функцию calc_pred_proba, возвращающую предсказанную вероятность класса 1 (на вход подаются W, который уже посчитан функцией eval_model и X, на выходе - массив y_pred_proba)."
   ]
  },
  {
   "cell_type": "code",
   "execution_count": 65,
   "metadata": {},
   "outputs": [],
   "source": [
    "def calc_pred_proba(W, X): \n",
    "    y_pred_proba = np.squeeze(sigmoid(np.dot(X, W)))\n",
    "    return y_pred_proba"
   ]
  },
  {
   "cell_type": "code",
   "execution_count": 66,
   "metadata": {},
   "outputs": [
    {
     "data": {
      "text/plain": [
       "array([3.76907782e-01, 1.43398442e-02, 9.99999995e-01, 1.09706210e-07,\n",
       "       9.32650715e-01, 6.42051408e-02, 1.00000000e+00, 2.06413788e-02,\n",
       "       6.05682604e-01, 9.99999459e-01])"
      ]
     },
     "execution_count": 66,
     "metadata": {},
     "output_type": "execute_result"
    }
   ],
   "source": [
    "calc_pred_proba(W, X_st) # вероятности принадлежности к классу 1."
   ]
  },
  {
   "cell_type": "markdown",
   "metadata": {},
   "source": [
    "Вероятности принадлежности к классу 1"
   ]
  },
  {
   "cell_type": "markdown",
   "metadata": {},
   "source": [
    "Задание 3. Создайте функцию calc_pred, возвращающую предсказанный класс (на вход подаются W, который уже посчитан функцией eval_model и X, на выходе - массив y_pred)"
   ]
  },
  {
   "cell_type": "code",
   "execution_count": 67,
   "metadata": {},
   "outputs": [],
   "source": [
    "def calc_pred(W, X_st):\n",
    "    y_pred = []\n",
    "    for i in calc_pred_proba(W, X_st):\n",
    "        if i > 0.5:\n",
    "            y_pred.append(1)\n",
    "        else:\n",
    "            y_pred.append(0)\n",
    "    return y_pred"
   ]
  },
  {
   "cell_type": "markdown",
   "metadata": {},
   "source": [
    "За пороговую вероятность принадлезности к классу 1 возмём вероятность большую 0.5, и циклом проходясь по каждой полученной йз calc_pred_proba вероятности, смотрим, принадлежит ли объект к классу 0 или 1 "
   ]
  },
  {
   "cell_type": "code",
   "execution_count": 68,
   "metadata": {},
   "outputs": [
    {
     "data": {
      "text/plain": [
       "[0, 0, 1, 0, 1, 0, 1, 0, 1, 1]"
      ]
     },
     "execution_count": 68,
     "metadata": {},
     "output_type": "execute_result"
    }
   ],
   "source": [
    "calc_pred(W, X_st)"
   ]
  },
  {
   "cell_type": "markdown",
   "metadata": {},
   "source": [
    "Для сравнения с настояшеё принадлежности к определённому классу рассотрим узначальный массив y нашей модели. Результат - предикт работает достаточно точно."
   ]
  },
  {
   "cell_type": "code",
   "execution_count": 69,
   "metadata": {},
   "outputs": [
    {
     "data": {
      "text/plain": [
       "array([0., 0., 1., 0., 1., 0., 1., 0., 1., 1.])"
      ]
     },
     "execution_count": 69,
     "metadata": {},
     "output_type": "execute_result"
    }
   ],
   "source": [
    "y"
   ]
  },
  {
   "cell_type": "markdown",
   "metadata": {},
   "source": [
    "Задание 5. Реазовать функции:\n",
    "\n",
    "Accuracy\n",
    "\n",
    "Матрицы ошибок\n",
    "\n",
    "Точности и полноты\n",
    "\n",
    "F1 score"
   ]
  },
  {
   "cell_type": "code",
   "execution_count": 103,
   "metadata": {},
   "outputs": [],
   "source": [
    "def Accuracy(W, X):\n",
    "    m = X.shape[0]\n",
    "    count = 0\n",
    "    pred = calc_pred(W, X) # предикты, к какому классу относиться объект\n",
    "    for i in range(m):\n",
    "        if pred[i] == y[i]: # если предикт совпал с ответом\n",
    "            count += 1 # увеличиваем счётчик\n",
    "    rez = count / m # отношение правильных ответов к общему количеству\n",
    "    return rez"
   ]
  },
  {
   "cell_type": "code",
   "execution_count": 111,
   "metadata": {},
   "outputs": [],
   "source": [
    "def error_matrix(W, X):\n",
    "    m = X.shape[0]\n",
    "    pred = calc_pred(W, X)\n",
    "    TP = 0 # истинные положительное срабатывания\n",
    "    FP = 0 # ложные положительное срабатывания\n",
    "    FN = 0 # ложные отрицательное срабатывания\n",
    "    TN = 0 # Истинные отрицательное срабатывания\n",
    "    for i in range(m):\n",
    "        if pred[i] == 1 and y[i] == 1:\n",
    "            TP += 1\n",
    "        elif pred[i] == 1 and y[i] == 0:\n",
    "            FP += 1\n",
    "        elif pred[i] == 0 and y[i] == 1:\n",
    "            FN += 1\n",
    "        else:\n",
    "            TN += 1\n",
    "    return [[TP, FP], [FN, TN]] # возращаем матрицу"
   ]
  },
  {
   "cell_type": "code",
   "execution_count": 105,
   "metadata": {},
   "outputs": [],
   "source": [
    "def precision(W, X): # вычислние точности\n",
    "    m = X.shape[0]\n",
    "    pred = calc_pred(W, X)\n",
    "    TP = 0 # счётчик истинных позитивных срабатываний\n",
    "    FP = 0 # счётчик ложных похитивных срабатываний\n",
    "    for i in range(m):\n",
    "        if pred[i] == 1 and y[i] == 1: # если срабатывание истинное позитивное \n",
    "            TP += 1\n",
    "        elif pred[i] == 1 and y[i] == 0: # если срабртывание ложное позитивное\n",
    "            FP += 1\n",
    "    rez = TP / TP + FP\n",
    "    return rez"
   ]
  },
  {
   "cell_type": "code",
   "execution_count": 106,
   "metadata": {},
   "outputs": [],
   "source": [
    "def recall(W, X): # вычисление полноты\n",
    "    m = X.shape[0]\n",
    "    pred = calc_pred(W, X)\n",
    "    TP = 0 # счётчик истинных позитивных срабатываний\n",
    "    FN = 0 # счётчик ложных негатиных срабатываний\n",
    "    for i in range(m):\n",
    "        if pred[i] == 1 and y[i] == 1: # если срабатывание истинное позитивное \n",
    "            TP += 1\n",
    "        elif pred[i] == 0 and y[i] == 1: # если срабртывание ложное позитивное\n",
    "            FP += 1\n",
    "    rez = TP / TP + FN\n",
    "    return rez"
   ]
  },
  {
   "cell_type": "code",
   "execution_count": 101,
   "metadata": {},
   "outputs": [],
   "source": [
    "def F_measure(W, X, b): # вычисление f - меры\n",
    "    prec = precision(W, X)\n",
    "    rec = recall(W, X)\n",
    "\n",
    "    # формула среднего гармонического между точностью и полнотой\n",
    "    rez = (1 + b**2) * (prec * rec) / (b**2 * prec * rec) \n",
    "\n",
    "    return rez"
   ]
  }
 ],
 "metadata": {
  "kernelspec": {
   "display_name": "Python 3",
   "language": "python",
   "name": "python3"
  },
  "language_info": {
   "codemirror_mode": {
    "name": "ipython",
    "version": 3
   },
   "file_extension": ".py",
   "mimetype": "text/x-python",
   "name": "python",
   "nbconvert_exporter": "python",
   "pygments_lexer": "ipython3",
   "version": "3.11.4"
  }
 },
 "nbformat": 4,
 "nbformat_minor": 2
}
